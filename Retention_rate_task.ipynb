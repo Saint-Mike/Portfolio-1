{
 "cells": [
  {
   "cell_type": "markdown",
   "metadata": {},
   "source": [
    "# Задание 1\n",
    "\n",
    "Retention – один из самых важных показателей в компании. Ваша задача – написать функцию, которая будет считать retention игроков (по дням от даты регистрации игрока). "
   ]
  },
  {
   "cell_type": "code",
   "execution_count": 1,
   "metadata": {},
   "outputs": [],
   "source": [
    "import pandas as pd\n",
    "import matplotlib.pyplot as plt\n",
    "import seaborn as sns\n",
    "import datetime"
   ]
  },
  {
   "cell_type": "markdown",
   "metadata": {},
   "source": [
    "### Открытие сsv файлов"
   ]
  },
  {
   "cell_type": "code",
   "execution_count": 2,
   "metadata": {},
   "outputs": [],
   "source": [
    "reg_df = pd.read_csv('problem1-reg_data.csv', sep=';')\n",
    "auth_df = pd.read_csv('problem1-auth_data.csv', sep=';')"
   ]
  },
  {
   "cell_type": "markdown",
   "metadata": {},
   "source": [
    "### Проверка содержимого датафреймов и типов данных в их колонках"
   ]
  },
  {
   "cell_type": "code",
   "execution_count": 3,
   "metadata": {},
   "outputs": [
    {
     "data": {
      "text/html": [
       "<div>\n",
       "<style scoped>\n",
       "    .dataframe tbody tr th:only-of-type {\n",
       "        vertical-align: middle;\n",
       "    }\n",
       "\n",
       "    .dataframe tbody tr th {\n",
       "        vertical-align: top;\n",
       "    }\n",
       "\n",
       "    .dataframe thead th {\n",
       "        text-align: right;\n",
       "    }\n",
       "</style>\n",
       "<table border=\"1\" class=\"dataframe\">\n",
       "  <thead>\n",
       "    <tr style=\"text-align: right;\">\n",
       "      <th></th>\n",
       "      <th>reg_ts</th>\n",
       "      <th>uid</th>\n",
       "    </tr>\n",
       "  </thead>\n",
       "  <tbody>\n",
       "    <tr>\n",
       "      <th>0</th>\n",
       "      <td>911382223</td>\n",
       "      <td>1</td>\n",
       "    </tr>\n",
       "    <tr>\n",
       "      <th>1</th>\n",
       "      <td>932683089</td>\n",
       "      <td>2</td>\n",
       "    </tr>\n",
       "    <tr>\n",
       "      <th>2</th>\n",
       "      <td>947802447</td>\n",
       "      <td>3</td>\n",
       "    </tr>\n",
       "    <tr>\n",
       "      <th>3</th>\n",
       "      <td>959523541</td>\n",
       "      <td>4</td>\n",
       "    </tr>\n",
       "    <tr>\n",
       "      <th>4</th>\n",
       "      <td>969103313</td>\n",
       "      <td>5</td>\n",
       "    </tr>\n",
       "  </tbody>\n",
       "</table>\n",
       "</div>"
      ],
      "text/plain": [
       "      reg_ts  uid\n",
       "0  911382223    1\n",
       "1  932683089    2\n",
       "2  947802447    3\n",
       "3  959523541    4\n",
       "4  969103313    5"
      ]
     },
     "execution_count": 3,
     "metadata": {},
     "output_type": "execute_result"
    }
   ],
   "source": [
    "reg_df.head()"
   ]
  },
  {
   "cell_type": "code",
   "execution_count": 4,
   "metadata": {},
   "outputs": [
    {
     "data": {
      "text/plain": [
       "reg_ts    int64\n",
       "uid       int64\n",
       "dtype: object"
      ]
     },
     "execution_count": 4,
     "metadata": {},
     "output_type": "execute_result"
    }
   ],
   "source": [
    "reg_df.dtypes"
   ]
  },
  {
   "cell_type": "code",
   "execution_count": 5,
   "metadata": {},
   "outputs": [
    {
     "data": {
      "text/html": [
       "<div>\n",
       "<style scoped>\n",
       "    .dataframe tbody tr th:only-of-type {\n",
       "        vertical-align: middle;\n",
       "    }\n",
       "\n",
       "    .dataframe tbody tr th {\n",
       "        vertical-align: top;\n",
       "    }\n",
       "\n",
       "    .dataframe thead th {\n",
       "        text-align: right;\n",
       "    }\n",
       "</style>\n",
       "<table border=\"1\" class=\"dataframe\">\n",
       "  <thead>\n",
       "    <tr style=\"text-align: right;\">\n",
       "      <th></th>\n",
       "      <th>auth_ts</th>\n",
       "      <th>uid</th>\n",
       "    </tr>\n",
       "  </thead>\n",
       "  <tbody>\n",
       "    <tr>\n",
       "      <th>0</th>\n",
       "      <td>911382223</td>\n",
       "      <td>1</td>\n",
       "    </tr>\n",
       "    <tr>\n",
       "      <th>1</th>\n",
       "      <td>932683089</td>\n",
       "      <td>2</td>\n",
       "    </tr>\n",
       "    <tr>\n",
       "      <th>2</th>\n",
       "      <td>932921206</td>\n",
       "      <td>2</td>\n",
       "    </tr>\n",
       "    <tr>\n",
       "      <th>3</th>\n",
       "      <td>933393015</td>\n",
       "      <td>2</td>\n",
       "    </tr>\n",
       "    <tr>\n",
       "      <th>4</th>\n",
       "      <td>933875379</td>\n",
       "      <td>2</td>\n",
       "    </tr>\n",
       "  </tbody>\n",
       "</table>\n",
       "</div>"
      ],
      "text/plain": [
       "     auth_ts  uid\n",
       "0  911382223    1\n",
       "1  932683089    2\n",
       "2  932921206    2\n",
       "3  933393015    2\n",
       "4  933875379    2"
      ]
     },
     "execution_count": 5,
     "metadata": {},
     "output_type": "execute_result"
    }
   ],
   "source": [
    "auth_df.head()"
   ]
  },
  {
   "cell_type": "code",
   "execution_count": 6,
   "metadata": {},
   "outputs": [
    {
     "data": {
      "text/plain": [
       "auth_ts    int64\n",
       "uid        int64\n",
       "dtype: object"
      ]
     },
     "execution_count": 6,
     "metadata": {},
     "output_type": "execute_result"
    }
   ],
   "source": [
    "auth_df.dtypes"
   ]
  },
  {
   "cell_type": "markdown",
   "metadata": {},
   "source": [
    "Так как данные в обоих таблицах числовые, для оптимизации вычислений приводим колонки 'auth_ts' и 'reg_ts' к типу **datetime**, а колонки 'uid' к типу **str**, для избежания пропуска уникальных значений:"
   ]
  },
  {
   "cell_type": "code",
   "execution_count": 7,
   "metadata": {},
   "outputs": [],
   "source": [
    "reg_df['reg_ts'] = pd.to_datetime(reg_df['reg_ts'], unit='s')\n",
    "auth_df['auth_ts'] = pd.to_datetime(auth_df['auth_ts'], unit='s')\n",
    "reg_df['uid'] = reg_df['uid'].astype('str')\n",
    "auth_df['uid'] = auth_df['uid'].astype('str')"
   ]
  },
  {
   "cell_type": "markdown",
   "metadata": {},
   "source": [
    "### Измерение процентного соотношения распределения количества регистраций от общего количества записей в датафрейме"
   ]
  },
  {
   "cell_type": "code",
   "execution_count": 8,
   "metadata": {},
   "outputs": [
    {
     "data": {
      "text/plain": [
       "2020    0.355\n",
       "2019    0.291\n",
       "2018    0.160\n",
       "2017    0.088\n",
       "2016    0.048\n",
       "2015    0.026\n",
       "2014    0.014\n",
       "2013    0.008\n",
       "2012    0.004\n",
       "2011    0.002\n",
       "2010    0.001\n",
       "2009    0.001\n",
       "2008    0.000\n",
       "2007    0.000\n",
       "2006    0.000\n",
       "2005    0.000\n",
       "2004    0.000\n",
       "2003    0.000\n",
       "2002    0.000\n",
       "2001    0.000\n",
       "2000    0.000\n",
       "1999    0.000\n",
       "1998    0.000\n",
       "Name: reg_ts, dtype: float64"
      ]
     },
     "execution_count": 8,
     "metadata": {},
     "output_type": "execute_result"
    }
   ],
   "source": [
    "round(reg_df.reg_ts.dt.year.value_counts(normalize=True),3)"
   ]
  },
  {
   "cell_type": "markdown",
   "metadata": {},
   "source": [
    "Из полученной таблицы видно, что мобильная игра до **2015 года** находилась на ранней стадии развития. Ежегодное количество пользователей превысило значение в **2.6%** от общего их числа только в **2015** году. Примем за начало отсчета статистики 2015 год. Для качественной оценки **Retention rate** до **2015 года** недостаточно данных."
   ]
  },
  {
   "cell_type": "markdown",
   "metadata": {},
   "source": [
    "Оставим значения с 2015 года включительно:"
   ]
  },
  {
   "cell_type": "code",
   "execution_count": 9,
   "metadata": {},
   "outputs": [],
   "source": [
    "reg_df_2015 = reg_df.query('reg_ts.dt.year >= 2015')"
   ]
  },
  {
   "cell_type": "code",
   "execution_count": 10,
   "metadata": {},
   "outputs": [],
   "source": [
    "auth_df_2015 = auth_df.query('auth_ts.dt.year >= 2015')"
   ]
  },
  {
   "cell_type": "code",
   "execution_count": 11,
   "metadata": {},
   "outputs": [
    {
     "data": {
      "text/plain": [
       "967970"
      ]
     },
     "execution_count": 11,
     "metadata": {},
     "output_type": "execute_result"
    }
   ],
   "source": [
    "reg_df_2015.shape[0]"
   ]
  },
  {
   "cell_type": "code",
   "execution_count": 12,
   "metadata": {},
   "outputs": [
    {
     "data": {
      "text/plain": [
       "1000000"
      ]
     },
     "execution_count": 12,
     "metadata": {},
     "output_type": "execute_result"
    }
   ],
   "source": [
    "reg_df.shape[0]"
   ]
  },
  {
   "cell_type": "code",
   "execution_count": 13,
   "metadata": {},
   "outputs": [
    {
     "data": {
      "text/plain": [
       "32030"
      ]
     },
     "execution_count": 13,
     "metadata": {},
     "output_type": "execute_result"
    }
   ],
   "source": [
    "reg_df.shape[0] - reg_df_2015.shape[0]"
   ]
  },
  {
   "cell_type": "code",
   "execution_count": 14,
   "metadata": {},
   "outputs": [
    {
     "data": {
      "text/plain": [
       "3.2"
      ]
     },
     "execution_count": 14,
     "metadata": {},
     "output_type": "execute_result"
    }
   ],
   "source": [
    "round((reg_df.shape[0] - reg_df_2015.shape[0])/reg_df.shape[0]*100, 2)"
   ]
  },
  {
   "cell_type": "markdown",
   "metadata": {},
   "source": [
    "Отсеивание логированных данных о регистрации до 2015 года сократило датафрейм reg_df на **32030 записей**, что составляет **3,2%** от общего количества записей."
   ]
  },
  {
   "cell_type": "code",
   "execution_count": 15,
   "metadata": {},
   "outputs": [
    {
     "data": {
      "text/plain": [
       "9309313"
      ]
     },
     "execution_count": 15,
     "metadata": {},
     "output_type": "execute_result"
    }
   ],
   "source": [
    "auth_df_2015.shape[0]"
   ]
  },
  {
   "cell_type": "code",
   "execution_count": 16,
   "metadata": {},
   "outputs": [
    {
     "data": {
      "text/plain": [
       "9601013"
      ]
     },
     "execution_count": 16,
     "metadata": {},
     "output_type": "execute_result"
    }
   ],
   "source": [
    "auth_df.shape[0]"
   ]
  },
  {
   "cell_type": "code",
   "execution_count": 17,
   "metadata": {},
   "outputs": [
    {
     "data": {
      "text/plain": [
       "291700"
      ]
     },
     "execution_count": 17,
     "metadata": {},
     "output_type": "execute_result"
    }
   ],
   "source": [
    "auth_df.shape[0] - auth_df_2015.shape[0]"
   ]
  },
  {
   "cell_type": "code",
   "execution_count": 18,
   "metadata": {},
   "outputs": [
    {
     "data": {
      "text/plain": [
       "3.04"
      ]
     },
     "execution_count": 18,
     "metadata": {},
     "output_type": "execute_result"
    }
   ],
   "source": [
    "round((auth_df.shape[0] - auth_df_2015.shape[0])/auth_df.shape[0]*100, 2) "
   ]
  },
  {
   "cell_type": "markdown",
   "metadata": {},
   "source": [
    "Отсеивание логированных данных об авторизации до 2015 года сократило датафрейм auth_df на **291700** записей, что составлет **3,04%** от общего количества записей."
   ]
  },
  {
   "cell_type": "markdown",
   "metadata": {},
   "source": [
    "### Для рассчета Retention rate по дням необходимо получить данные о количестве дней между каждым посещением и датой регистрации"
   ]
  },
  {
   "cell_type": "markdown",
   "metadata": {},
   "source": [
    "Создадим датафрейм **timedelta_df**, в котором отсортируем данные по уникальному пользователю и каждому его посещению:"
   ]
  },
  {
   "cell_type": "code",
   "execution_count": 19,
   "metadata": {},
   "outputs": [],
   "source": [
    "timedelta_df = auth_df_2015\\\n",
    ".reset_index()\\\n",
    ".groupby(['index','uid','auth_ts'], as_index = False)\\\n",
    ".agg({'index': 'count'})\\\n",
    ".drop(columns = 'index')\\\n",
    ".sort_values(['uid', 'auth_ts'])"
   ]
  },
  {
   "cell_type": "markdown",
   "metadata": {},
   "source": [
    "Создадим в этом датафрейме колонку **delta**, в которой посчитаем данные о временной разнице между последовательными посещениями:"
   ]
  },
  {
   "cell_type": "code",
   "execution_count": 20,
   "metadata": {},
   "outputs": [],
   "source": [
    "timedelta_df['delta'] = timedelta_df['auth_ts'].diff(periods = 1)"
   ]
  },
  {
   "cell_type": "code",
   "execution_count": 21,
   "metadata": {},
   "outputs": [
    {
     "data": {
      "text/html": [
       "<div>\n",
       "<style scoped>\n",
       "    .dataframe tbody tr th:only-of-type {\n",
       "        vertical-align: middle;\n",
       "    }\n",
       "\n",
       "    .dataframe tbody tr th {\n",
       "        vertical-align: top;\n",
       "    }\n",
       "\n",
       "    .dataframe thead th {\n",
       "        text-align: right;\n",
       "    }\n",
       "</style>\n",
       "<table border=\"1\" class=\"dataframe\">\n",
       "  <thead>\n",
       "    <tr style=\"text-align: right;\">\n",
       "      <th></th>\n",
       "      <th>uid</th>\n",
       "      <th>auth_ts</th>\n",
       "      <th>delta</th>\n",
       "    </tr>\n",
       "  </thead>\n",
       "  <tbody>\n",
       "    <tr>\n",
       "      <th>554050</th>\n",
       "      <td>100000</td>\n",
       "      <td>2016-09-20 02:33:46</td>\n",
       "      <td>NaT</td>\n",
       "    </tr>\n",
       "    <tr>\n",
       "      <th>8348970</th>\n",
       "      <td>1000000</td>\n",
       "      <td>2020-07-21 19:58:14</td>\n",
       "      <td>1400 days 17:24:28</td>\n",
       "    </tr>\n",
       "    <tr>\n",
       "      <th>8348979</th>\n",
       "      <td>1000001</td>\n",
       "      <td>2020-07-21 19:59:12</td>\n",
       "      <td>0 days 00:00:58</td>\n",
       "    </tr>\n",
       "    <tr>\n",
       "      <th>8416339</th>\n",
       "      <td>1000001</td>\n",
       "      <td>2020-07-26 12:14:31</td>\n",
       "      <td>4 days 16:15:19</td>\n",
       "    </tr>\n",
       "    <tr>\n",
       "      <th>8456773</th>\n",
       "      <td>1000001</td>\n",
       "      <td>2020-07-29 07:45:01</td>\n",
       "      <td>2 days 19:30:30</td>\n",
       "    </tr>\n",
       "    <tr>\n",
       "      <th>...</th>\n",
       "      <td>...</td>\n",
       "      <td>...</td>\n",
       "      <td>...</td>\n",
       "    </tr>\n",
       "    <tr>\n",
       "      <th>8960481</th>\n",
       "      <td>999999</td>\n",
       "      <td>2020-09-01 04:42:45</td>\n",
       "      <td>3 days 12:16:06</td>\n",
       "    </tr>\n",
       "    <tr>\n",
       "      <th>9015120</th>\n",
       "      <td>999999</td>\n",
       "      <td>2020-09-04 18:14:23</td>\n",
       "      <td>3 days 13:31:38</td>\n",
       "    </tr>\n",
       "    <tr>\n",
       "      <th>9094857</th>\n",
       "      <td>999999</td>\n",
       "      <td>2020-09-09 22:14:16</td>\n",
       "      <td>5 days 03:59:53</td>\n",
       "    </tr>\n",
       "    <tr>\n",
       "      <th>9191944</th>\n",
       "      <td>999999</td>\n",
       "      <td>2020-09-16 03:59:54</td>\n",
       "      <td>6 days 05:45:38</td>\n",
       "    </tr>\n",
       "    <tr>\n",
       "      <th>9292561</th>\n",
       "      <td>999999</td>\n",
       "      <td>2020-09-22 13:10:02</td>\n",
       "      <td>6 days 09:10:08</td>\n",
       "    </tr>\n",
       "  </tbody>\n",
       "</table>\n",
       "<p>9309313 rows × 3 columns</p>\n",
       "</div>"
      ],
      "text/plain": [
       "             uid             auth_ts              delta\n",
       "554050    100000 2016-09-20 02:33:46                NaT\n",
       "8348970  1000000 2020-07-21 19:58:14 1400 days 17:24:28\n",
       "8348979  1000001 2020-07-21 19:59:12    0 days 00:00:58\n",
       "8416339  1000001 2020-07-26 12:14:31    4 days 16:15:19\n",
       "8456773  1000001 2020-07-29 07:45:01    2 days 19:30:30\n",
       "...          ...                 ...                ...\n",
       "8960481   999999 2020-09-01 04:42:45    3 days 12:16:06\n",
       "9015120   999999 2020-09-04 18:14:23    3 days 13:31:38\n",
       "9094857   999999 2020-09-09 22:14:16    5 days 03:59:53\n",
       "9191944   999999 2020-09-16 03:59:54    6 days 05:45:38\n",
       "9292561   999999 2020-09-22 13:10:02    6 days 09:10:08\n",
       "\n",
       "[9309313 rows x 3 columns]"
      ]
     },
     "execution_count": 21,
     "metadata": {},
     "output_type": "execute_result"
    }
   ],
   "source": [
    "timedelta_df"
   ]
  },
  {
   "cell_type": "markdown",
   "metadata": {},
   "source": [
    "Проверим, есть ли значения, характерные для перехода с предыдущего пользователя на следующего, а именно, отрицательные значения между заранее сгруппированными посещениями, что должно отразиться в колонке **delta**. \n",
    "Предлагаю принять за характерное для такой активности время сессии < 0 минут:"
   ]
  },
  {
   "cell_type": "code",
   "execution_count": 22,
   "metadata": {},
   "outputs": [
    {
     "data": {
      "text/plain": [
       "272323"
      ]
     },
     "execution_count": 22,
     "metadata": {},
     "output_type": "execute_result"
    }
   ],
   "source": [
    "timedelta_df.query('delta < \"0 days 00:00:00\"').shape[0]"
   ]
  },
  {
   "cell_type": "markdown",
   "metadata": {},
   "source": [
    "Проверим, есть ли значения, характерные для подозрительной активности, а именно, частые перезаходы в игру, что должно отразиться в колонке **delta**.\n",
    "Предлагаю принять за характерное для такой активности время сессии от 0 до 5 минут:\n",
    "\n"
   ]
  },
  {
   "cell_type": "code",
   "execution_count": 23,
   "metadata": {},
   "outputs": [
    {
     "data": {
      "text/plain": [
       "576064"
      ]
     },
     "execution_count": 23,
     "metadata": {},
     "output_type": "execute_result"
    }
   ],
   "source": [
    "timedelta_df.query('\"0 days 00:00:00\" <= delta <= \"0 days 00:05:00\"').shape[0]"
   ]
  },
  {
   "cell_type": "markdown",
   "metadata": {},
   "source": [
    "Фильтруем паразитные значения, отсеивая потенциальных ботов и наши служебные значения:"
   ]
  },
  {
   "cell_type": "code",
   "execution_count": 24,
   "metadata": {},
   "outputs": [],
   "source": [
    "cleared_timedelta_df = timedelta_df.query('delta > \"0 days 00:05:00\"')"
   ]
  },
  {
   "cell_type": "markdown",
   "metadata": {},
   "source": [
    "Посмотрим, сколько подозрительных пользователей мы убрали из нашей выборки:"
   ]
  },
  {
   "cell_type": "code",
   "execution_count": 25,
   "metadata": {},
   "outputs": [
    {
     "data": {
      "text/plain": [
       "848388"
      ]
     },
     "execution_count": 25,
     "metadata": {},
     "output_type": "execute_result"
    }
   ],
   "source": [
    "auth_df_2015.shape[0] - cleared_timedelta_df.shape[0]"
   ]
  },
  {
   "cell_type": "code",
   "execution_count": 26,
   "metadata": {},
   "outputs": [
    {
     "data": {
      "text/plain": [
       "9.11"
      ]
     },
     "execution_count": 26,
     "metadata": {},
     "output_type": "execute_result"
    }
   ],
   "source": [
    "round((auth_df_2015.shape[0] - cleared_timedelta_df.shape[0])*100/auth_df_2015.shape[0],2)"
   ]
  },
  {
   "cell_type": "markdown",
   "metadata": {},
   "source": [
    "Путем преобразований данных **с 2015 года** было убрано **848388** строк, что составляет **9.11%** паразитных данных от выборки. "
   ]
  },
  {
   "cell_type": "markdown",
   "metadata": {},
   "source": [
    "### Соединение датафрейма с данными о регистрации  reg_df_2015 с датафреймом фильтрованных данных об аутентификации cleared_timedelta_df"
   ]
  },
  {
   "cell_type": "code",
   "execution_count": 27,
   "metadata": {},
   "outputs": [],
   "source": [
    "retention_df = cleared_timedelta_df.merge(reg_df_2015,how='left', on='uid').rename(columns={'uid': 'UserID', 'auth_ts': 'Auth', 'reg_ts': 'Registration', 'delta': 'Delta'})"
   ]
  },
  {
   "cell_type": "markdown",
   "metadata": {},
   "source": [
    "Проверим правильность выполненного соединения датафреймов:"
   ]
  },
  {
   "cell_type": "code",
   "execution_count": 28,
   "metadata": {},
   "outputs": [
    {
     "data": {
      "text/plain": [
       "8460925"
      ]
     },
     "execution_count": 28,
     "metadata": {},
     "output_type": "execute_result"
    }
   ],
   "source": [
    "cleared_timedelta_df.shape[0]"
   ]
  },
  {
   "cell_type": "code",
   "execution_count": 29,
   "metadata": {},
   "outputs": [
    {
     "data": {
      "text/plain": [
       "8460925"
      ]
     },
     "execution_count": 29,
     "metadata": {},
     "output_type": "execute_result"
    }
   ],
   "source": [
    "retention_df.shape[0]"
   ]
  },
  {
   "cell_type": "markdown",
   "metadata": {},
   "source": [
    "Количество строк **retention_df** совпадает с количеством строк **cleared_timedelta_df**, значит конкатенация прошла успешно."
   ]
  },
  {
   "cell_type": "markdown",
   "metadata": {},
   "source": [
    "Проверяем на наличие отсутствующих значений:"
   ]
  },
  {
   "cell_type": "code",
   "execution_count": 30,
   "metadata": {},
   "outputs": [
    {
     "data": {
      "text/plain": [
       "UserID               0\n",
       "Auth                 0\n",
       "Delta                0\n",
       "Registration    837453\n",
       "dtype: int64"
      ]
     },
     "execution_count": 30,
     "metadata": {},
     "output_type": "execute_result"
    }
   ],
   "source": [
    "retention_df.isna().sum()"
   ]
  },
  {
   "cell_type": "markdown",
   "metadata": {},
   "source": [
    "Для **837453** строк отсутствует значение даты регистрации. Построить для данных пользователей **Retention rate** невозможно. \n",
    "Уберем их:"
   ]
  },
  {
   "cell_type": "code",
   "execution_count": 31,
   "metadata": {},
   "outputs": [],
   "source": [
    "retention_df.dropna(subset=['Registration'], inplace=True)"
   ]
  },
  {
   "cell_type": "markdown",
   "metadata": {},
   "source": [
    "Проверяем на наличие отсутствующих значений еще раз:"
   ]
  },
  {
   "cell_type": "code",
   "execution_count": 32,
   "metadata": {},
   "outputs": [
    {
     "data": {
      "text/plain": [
       "UserID          0\n",
       "Auth            0\n",
       "Delta           0\n",
       "Registration    0\n",
       "dtype: int64"
      ]
     },
     "execution_count": 32,
     "metadata": {},
     "output_type": "execute_result"
    }
   ],
   "source": [
    "retention_df.isna().sum()"
   ]
  },
  {
   "cell_type": "markdown",
   "metadata": {},
   "source": [
    "Удаление строк выполнено успешно."
   ]
  },
  {
   "cell_type": "markdown",
   "metadata": {},
   "source": [
    "### Определение функции для расчета Retention rate"
   ]
  },
  {
   "cell_type": "code",
   "execution_count": 33,
   "metadata": {},
   "outputs": [],
   "source": [
    "def retention_rate(retention_df, retention_depth, min_date, max_date):  \n",
    "    \n",
    "    \n",
    "    #Создаем колонки reg и auth для того чтобы считать количество дней с момента регистрации не по количеству часов в сутках, а по дню:\n",
    "    \n",
    "    cohort = retention_df\n",
    "    cohort['reg']=retention_df.Registration.dt.date\n",
    "    cohort['auth']=retention_df.Auth.dt.date    \n",
    "\n",
    "    \n",
    "    #Находим количество дней с момента регистрации до каждой даты входа в игру и добавляем полученные значения в итоговый датафрейм:\n",
    "    \n",
    "    cohort['days'] = (cohort['auth']-cohort['reg']).apply(lambda x: x.days)    \n",
    "    \n",
    "    \n",
    "    ''' \n",
    "    Отсеиваем значения данных неподходящие под переданные нами в аргументы функции, после чего группируем датафрейм по дате регистрации и количеству дней с регистрации,\n",
    "    находим количество уникальных пользователей для каждой даты:\n",
    "    '''\n",
    "\n",
    "    cohort = cohort.loc[(cohort['Registration'] >= min_date) & (cohort['Auth'] <= max_date) & (cohort['days'] <= retention_depth)].groupby(['reg','days'], as_index= False).agg({'UserID':'nunique'})\n",
    "   \n",
    "\n",
    "    '''\n",
    "    Делаем сводную таблиц. Индексами в ней выступают значения дат регистрации, колонками количество дней с момента регистрации,\n",
    "    а значениями количсетво уникальных пользователей в каждый из дней:\n",
    "    '''\n",
    "    \n",
    "    retention_table = cohort.pivot_table (index='reg', columns='days', values='UserID')\n",
    "    \n",
    "    \n",
    "    #Указываем когорту с которой будем сравнивать значения количества заходов в игру в последующие дни:\n",
    "    \n",
    "    cohort_size = retention_table.iloc[:,0]\n",
    "    \n",
    "    \n",
    "    #Рассчитываем retention_rate для каждого дня:\n",
    "    \n",
    "    retention_rate = retention_table.divide(cohort_size, axis=0).round(3)\n",
    "    \n",
    "\n",
    "    #Визуализируем полученную таблицу через heatmap для наглядного отображения закономерностей:\n",
    "    \n",
    "    plt.figure(figsize=(20,15))\n",
    "    plt.title('Retention rate for Gamers')\n",
    "    sns.heatmap(data=retention_rate,\n",
    "           vmin=0.0,\n",
    "           vmax=0.8,\n",
    "           cmap='YlGnBu',\n",
    "           annot=True,\n",
    "           fmt='.00%')\n",
    "    plt.show()"
   ]
  },
  {
   "cell_type": "markdown",
   "metadata": {},
   "source": [
    "Указываем аргументы в функции, а именно: **DF**, глубину расчета **Retention rate**, **дату регистрации первой когорты**, **дату регистрации последней когорты**:"
   ]
  },
  {
   "cell_type": "code",
   "execution_count": 34,
   "metadata": {},
   "outputs": [
    {
     "data": {
      "image/png": "[encoded data removed]",
      "text/plain": [
       "<Figure size 1440x1080 with 2 Axes>"
      ]
     },
     "metadata": {
      "needs_background": "light"
     },
     "output_type": "display_data"
    }
   ],
   "source": [
    "retention_rate(retention_df, 12, '2020-05-12', '2020-05-23')"
   ]
  }
 ],
 "metadata": {
  "kernelspec": {
   "display_name": "Python 3 (ipykernel)",
   "language": "python",
   "name": "python3"
  },
  "language_info": {
   "codemirror_mode": {
    "name": "ipython",
    "version": 3
   },
   "file_extension": ".py",
   "mimetype": "text/x-python",
   "name": "python",
   "nbconvert_exporter": "python",
   "pygments_lexer": "ipython3",
   "version": "3.8.7"
  }
 },
 "nbformat": 4,
 "nbformat_minor": 4
}
